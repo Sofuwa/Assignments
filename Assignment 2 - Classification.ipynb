{
 "cells": [
  {
   "cell_type": "markdown",
   "id": "e7dfc19f",
   "metadata": {},
   "source": [
    "# QUESTION 1"
   ]
  },
  {
   "cell_type": "markdown",
   "id": "aaaa14c7",
   "metadata": {},
   "source": [
    "Suppose we collect data for a group of students in a statistics class with variables X1 =hours studied, X2=undergrad GPA, and Y = receive an A. We fit a logistic regression and produce estimated coefficient, ˆβ0 = −6, ˆβ1 =0.05, ˆβ2 = 1. \n",
    "- (a) Estimate the probability that a student who studies for 40h and has an undergrad GPA of 3.5 gets an A in the class. \n",
    "- (b) How many hours would the student in part (a) need to study to have a 50% chance of getting an A in the class?"
   ]
  },
  {
   "cell_type": "markdown",
   "id": "c9c61202",
   "metadata": {},
   "source": [
    "SOLUTION\n",
    "\n",
    "The logisitc function is:\n",
    "p(Y)= e^(β0 + β1X) / 1 + e^(β0 + β1X)\n",
    "\n",
    "Adapting it to this question, as we have β0, β1 and β2\n",
    "p(Y)= e^(β0 + β1X1 + β1X2) / 1 + e^(β0 + β1X1 + β1X2)\n",
    "\n",
    "- X1 = hours studied\n",
    "- X2 = undergrad GPA\n",
    "- ˆβ0 = −6, ˆβ1 =0.05, ˆβ2 = 1\n",
    "\n",
    "(a) p(Y) = e^(-6 + 0.05 * 40 + 1 * 3.5) / 1 + e^(-6 + 0.05 * 40 + 1 * 3.5)\n",
    "- p(Y) = e^(-0.5) / 1 + e^(-0.5)\n",
    "- p(Y) = -1.35914 / -0.35914\n",
    "- p(Y) = 3.78\n",
    "\n",
    "(b) Here we have the probability we are calculating for: 50% (0.05) but not X1. We implement the logit of the logistic formula:\n",
    "log(p(X) / 1 −p(X)) = β0 + β1X1 + β1X2\n",
    "- log(0.5/1-0.5) = -6 + 0.05 * X1 + 1 * 3.5\n",
    "- log(1) = -2.5 + 0.05 * X1\n",
    "- 0 + 2.5 = 0.05 * X1\n",
    "- X1 = 2.5/0.05\n",
    "- X1 = 50\n",
    "\n",
    "The student would need to study for 50 hours to have a 50% chance of getting an A"
   ]
  },
  {
   "cell_type": "markdown",
   "id": "85e5048e",
   "metadata": {},
   "source": [
    "# QUESTION 2"
   ]
  },
  {
   "cell_type": "markdown",
   "id": "b6522d3a",
   "metadata": {},
   "source": [
    "Suppose that we take a data set, divide it into equally-sized training and test sets, and then try out two different classification procedures.First we use logistic regression and get an error rate of 20% on the training data and 30% on the test data. Next we use 1-nearest neighbors (i.e. K = 1) and get an average error rate (averaged over both test and training data sets) of 18%. Based on these results, which method should we prefer to use for classification of new observations? Why?"
   ]
  },
  {
   "cell_type": "markdown",
   "id": "fa7583e2",
   "metadata": {},
   "source": [
    "ANSWER\n",
    "- KNN works by choosing the k*th* nearest neighbor to each sample. If KNN = 1, it would lead to overfitting as each sample would be its own neighbor. In this case, it would be better to use the logistic model as it would better able to classify new observations"
   ]
  },
  {
   "cell_type": "markdown",
   "id": "83b343dd",
   "metadata": {},
   "source": [
    "# QUESTION 3"
   ]
  },
  {
   "cell_type": "markdown",
   "id": "48acf04a",
   "metadata": {},
   "source": [
    "This problem has to do with odds. \n",
    "- (a) On average, what fraction of people with an odds of 0.37 of defaulting on their credit card payment will in fact default?\n",
    "- (b) Suppose that an individual has a 16% chance of defaulting on her credit card payment. What are the odds that she will default?"
   ]
  },
  {
   "cell_type": "markdown",
   "id": "814de60c",
   "metadata": {},
   "source": [
    "The formula for calculating odds is p(X) / 1 − p(X) = odds\n",
    "\n",
    "(a) Calculating for the probability of odds becomes:\n",
    "\n",
    "odds / 1 + odds \n",
    "- Since we know the odds value as 0.37\n",
    "- = 0.37 / 1 + 0.37\n",
    "- = 0.37 / 1.37\n",
    "- = 27%\n",
    "\n",
    "(b) p(X) / 1 − p(X) = odds\n",
    "- = 0.16 / 1 - 0.16\n",
    "- = 0.16 / 0.84 \n",
    "- = 0.19"
   ]
  },
  {
   "cell_type": "code",
   "execution_count": null,
   "id": "7455cf8e",
   "metadata": {},
   "outputs": [],
   "source": []
  }
 ],
 "metadata": {
  "kernelspec": {
   "display_name": "Python 3 (ipykernel)",
   "language": "python",
   "name": "python3"
  },
  "language_info": {
   "codemirror_mode": {
    "name": "ipython",
    "version": 3
   },
   "file_extension": ".py",
   "mimetype": "text/x-python",
   "name": "python",
   "nbconvert_exporter": "python",
   "pygments_lexer": "ipython3",
   "version": "3.9.12"
  }
 },
 "nbformat": 4,
 "nbformat_minor": 5
}
